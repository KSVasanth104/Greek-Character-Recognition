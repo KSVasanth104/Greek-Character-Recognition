{
 "cells": [
  {
   "cell_type": "code",
   "execution_count": 6,
   "id": "b7db1d2f",
   "metadata": {},
   "outputs": [],
   "source": [
    "import os\n",
    "import numpy as np\n",
    "import tensorflow as tf\n",
    "from tensorflow import keras\n",
    "from tensorflow.keras import models, layers\n",
    "from keras.layers import Dense,Activation,Flatten\n",
    "from keras.regularizers import l2,l1\n",
    "import matplotlib.pyplot as plt\n",
    "from keras.callbacks import ModelCheckpoint"
   ]
  },
  {
   "cell_type": "code",
   "execution_count": 7,
   "id": "6ba8acf1",
   "metadata": {},
   "outputs": [],
   "source": [
    "import cv2\n",
    "import pandas as pd\n",
    "from imutils import paths\n",
    "from PIL import Image\n",
    "from skimage import color\n",
    "from sklearn.model_selection import train_test_split\n",
    "from sklearn.neighbors import KNeighborsClassifier\n",
    "%matplotlib inline"
   ]
  },
  {
   "cell_type": "markdown",
   "id": "c7611881",
   "metadata": {},
   "source": [
    "### importing DataSet"
   ]
  },
  {
   "cell_type": "code",
   "execution_count": 8,
   "id": "1984f904",
   "metadata": {},
   "outputs": [
    {
     "name": "stdout",
     "output_type": "stream",
     "text": [
      "Found 21471 files belonging to 48 classes.\n"
     ]
    }
   ],
   "source": [
    "# Dataset is a size of (256,256)\n",
    "# Dataset is converted into gray scale for better accuracy\n",
    "\n",
    "dataset1 = tf.keras.preprocessing.image_dataset_from_directory(\"Query\", shuffle = True,color_mode=\"grayscale\")"
   ]
  },
  {
   "cell_type": "markdown",
   "id": "4172a58c",
   "metadata": {},
   "source": [
    "### Train, Validation, Test split"
   ]
  },
  {
   "cell_type": "code",
   "execution_count": 4,
   "id": "ebc0575d",
   "metadata": {},
   "outputs": [],
   "source": [
    "def dataPartition(ds, train_split=0.8, val_split=0.1, test_split=0.1, shuffle=True,shuffle_size=10000):\n",
    "    \n",
    "    \n",
    "    ds_size = len(ds)\n",
    "    if shuffle:\n",
    "        ds = ds.shuffle(shuffle_size, seed=12)\n",
    "    \n",
    "    \n",
    "    train_size = int(train_split * ds_size)\n",
    "    val_size = int(val_split * ds_size)\n",
    "    \n",
    "    train_ds = ds.take(train_size)    \n",
    "    val_ds = ds.skip(train_size).take(val_size)\n",
    "    test_ds = ds.skip(train_size).skip(val_size)\n",
    "    \n",
    "    return train_ds, val_ds, test_ds\n",
    "\n",
    "\n",
    "\n",
    "\n",
    "# calling train, test split\n",
    "\n",
    "train_ds, val_ds, test_ds = dataPartition(dataset1)"
   ]
  },
  {
   "cell_type": "code",
   "execution_count": 10,
   "id": "3cf2c7c9",
   "metadata": {},
   "outputs": [],
   "source": [
    "\n",
    "# using prefetch method to Reduce computational power\n",
    "\n",
    "train_ds = train_ds.cache().shuffle(1000).prefetch(buffer_size=tf.data.AUTOTUNE)\n",
    "val_ds = val_ds.cache().shuffle(1000).prefetch(buffer_size=tf.data.AUTOTUNE)\n",
    "test_ds = test_ds.cache().shuffle(1000).prefetch(buffer_size=tf.data.AUTOTUNE)"
   ]
  },
  {
   "cell_type": "markdown",
   "id": "ec8e87d9",
   "metadata": {},
   "source": [
    "### pre-processing"
   ]
  },
  {
   "cell_type": "code",
   "execution_count": 13,
   "id": "3e065e70",
   "metadata": {},
   "outputs": [],
   "source": [
    "# Normalizing Data\n",
    "\n",
    "resize_and_rescale = tf.keras.Sequential([\n",
    "  layers.experimental.preprocessing.Resizing(256, 256),\n",
    "  layers.experimental.preprocessing.Rescaling(1./255),\n",
    "])"
   ]
  },
  {
   "cell_type": "markdown",
   "id": "4876cffd",
   "metadata": {},
   "source": [
    "## Model1 - CNN"
   ]
  },
  {
   "cell_type": "markdown",
   "id": "6bd1db1c",
   "metadata": {},
   "source": [
    "### Model building"
   ]
  },
  {
   "cell_type": "code",
   "execution_count": 10,
   "id": "067d1f17",
   "metadata": {},
   "outputs": [],
   "source": [
    "# 6 conv-layers\n",
    "# pooling - maxpooling\n",
    "# filter - 3 x 3 \n",
    "# activation - relu\n",
    "# optimizer - adam\n",
    "# loss - Sparse Categorical Crossentropy\n",
    "\n",
    "\n",
    "model1 = models.Sequential([\n",
    "    resize_and_rescale,\n",
    "    layers.Conv2D(32, kernel_size = (3,3), activation='relu', input_shape= (32,256,256,1)),\n",
    "    layers.MaxPooling2D((2, 2)),\n",
    "    layers.Conv2D(64,  kernel_size = (3,3), activation='relu'),\n",
    "    layers.MaxPooling2D((2, 2)),\n",
    "    layers.Conv2D(64,  kernel_size = (3,3), activation='relu'),\n",
    "    layers.MaxPooling2D((2, 2)),\n",
    "    layers.Conv2D(64,  kernel_size = (3,3), activation='relu'),\n",
    "    layers.MaxPooling2D((2, 2)),\n",
    "    layers.Conv2D(128, (3, 3), activation='relu'),\n",
    "    layers.MaxPooling2D((2, 2)),\n",
    "    layers.Conv2D(128, (3, 3), activation='relu'),\n",
    "    layers.MaxPooling2D((2, 2)),\n",
    "    layers.Flatten(),\n",
    "    layers.Dense(128, activation='relu'),\n",
    "    layers.Dense(48, activation='softmax')\n",
    "])\n",
    "\n",
    "model1.build(input_shape=(32, 256, 256, 1))\n",
    "\n",
    "model1.compile(\n",
    "    optimizer='adam',\n",
    "    loss=tf.keras.losses.SparseCategoricalCrossentropy(from_logits=False),\n",
    "    metrics=['accuracy']\n",
    ")"
   ]
  },
  {
   "cell_type": "markdown",
   "id": "8f38d768",
   "metadata": {},
   "source": [
    "### Save Best Model in Dir"
   ]
  },
  {
   "cell_type": "code",
   "execution_count": 12,
   "id": "ac376799",
   "metadata": {},
   "outputs": [],
   "source": [
    "#save best model out-of-all epoch \n",
    "# best model is choosen based on validation accuracy score\n",
    "\n",
    "\n",
    "saveBestModel = ModelCheckpoint('models/best_model.h5', monitor='val_accuracy', mode='max', verbose=1, save_best_only=True)"
   ]
  },
  {
   "cell_type": "markdown",
   "id": "96ad08e1",
   "metadata": {},
   "source": [
    "### Fitting the Model "
   ]
  },
  {
   "cell_type": "code",
   "execution_count": 13,
   "id": "aff895f0",
   "metadata": {},
   "outputs": [
    {
     "name": "stdout",
     "output_type": "stream",
     "text": [
      "Epoch 1/50\n",
      "536/536 [==============================] - ETA: 0s - loss: 2.8578 - accuracy: 0.2321\n",
      "Epoch 1: val_accuracy improved from -inf to 0.59328, saving model to models\\best_model.h5\n",
      "536/536 [==============================] - 597s 1s/step - loss: 2.8578 - accuracy: 0.2321 - val_loss: 1.4719 - val_accuracy: 0.5933\n",
      "Epoch 2/50\n",
      "536/536 [==============================] - ETA: 0s - loss: 1.2010 - accuracy: 0.6417\n",
      "Epoch 2: val_accuracy improved from 0.59328 to 0.73461, saving model to models\\best_model.h5\n",
      "536/536 [==============================] - 597s 1s/step - loss: 1.2010 - accuracy: 0.6417 - val_loss: 0.8972 - val_accuracy: 0.7346\n",
      "Epoch 3/50\n",
      "536/536 [==============================] - ETA: 0s - loss: 0.7691 - accuracy: 0.7663\n",
      "Epoch 3: val_accuracy improved from 0.73461 to 0.82276, saving model to models\\best_model.h5\n",
      "536/536 [==============================] - 596s 1s/step - loss: 0.7691 - accuracy: 0.7663 - val_loss: 0.5847 - val_accuracy: 0.8228\n",
      "Epoch 4/50\n",
      "536/536 [==============================] - ETA: 0s - loss: 0.4985 - accuracy: 0.8558\n",
      "Epoch 4: val_accuracy improved from 0.82276 to 0.89506, saving model to models\\best_model.h5\n",
      "536/536 [==============================] - 597s 1s/step - loss: 0.4985 - accuracy: 0.8558 - val_loss: 0.3617 - val_accuracy: 0.8951\n",
      "Epoch 5/50\n",
      "536/536 [==============================] - ETA: 0s - loss: 0.3700 - accuracy: 0.8893\n",
      "Epoch 5: val_accuracy did not improve from 0.89506\n",
      "536/536 [==============================] - 595s 1s/step - loss: 0.3700 - accuracy: 0.8893 - val_loss: 0.4105 - val_accuracy: 0.8811\n",
      "Epoch 6/50\n",
      "536/536 [==============================] - ETA: 0s - loss: 0.2726 - accuracy: 0.9155\n",
      "Epoch 6: val_accuracy improved from 0.89506 to 0.91511, saving model to models\\best_model.h5\n",
      "536/536 [==============================] - 596s 1s/step - loss: 0.2726 - accuracy: 0.9155 - val_loss: 0.2789 - val_accuracy: 0.9151\n",
      "Epoch 7/50\n",
      "536/536 [==============================] - ETA: 0s - loss: 0.2047 - accuracy: 0.9363\n",
      "Epoch 7: val_accuracy improved from 0.91511 to 0.95196, saving model to models\\best_model.h5\n",
      "536/536 [==============================] - 595s 1s/step - loss: 0.2047 - accuracy: 0.9363 - val_loss: 0.1879 - val_accuracy: 0.9520\n",
      "Epoch 8/50\n",
      "536/536 [==============================] - ETA: 0s - loss: 0.1665 - accuracy: 0.9456\n",
      "Epoch 8: val_accuracy improved from 0.95196 to 0.95289, saving model to models\\best_model.h5\n",
      "536/536 [==============================] - 599s 1s/step - loss: 0.1665 - accuracy: 0.9456 - val_loss: 0.1875 - val_accuracy: 0.9529\n",
      "Epoch 9/50\n",
      "536/536 [==============================] - ETA: 0s - loss: 0.1434 - accuracy: 0.9533\n",
      "Epoch 9: val_accuracy improved from 0.95289 to 0.96222, saving model to models\\best_model.h5\n",
      "536/536 [==============================] - 604s 1s/step - loss: 0.1434 - accuracy: 0.9533 - val_loss: 0.1428 - val_accuracy: 0.9622\n",
      "Epoch 10/50\n",
      "536/536 [==============================] - ETA: 0s - loss: 0.1037 - accuracy: 0.9649\n",
      "Epoch 10: val_accuracy did not improve from 0.96222\n",
      "536/536 [==============================] - 598s 1s/step - loss: 0.1037 - accuracy: 0.9649 - val_loss: 0.1863 - val_accuracy: 0.9543\n",
      "Epoch 11/50\n",
      "536/536 [==============================] - ETA: 0s - loss: 0.1084 - accuracy: 0.9635\n",
      "Epoch 11: val_accuracy did not improve from 0.96222\n",
      "536/536 [==============================] - 597s 1s/step - loss: 0.1084 - accuracy: 0.9635 - val_loss: 0.2230 - val_accuracy: 0.9426\n",
      "Epoch 12/50\n",
      "536/536 [==============================] - ETA: 0s - loss: 0.1030 - accuracy: 0.9647\n",
      "Epoch 12: val_accuracy did not improve from 0.96222\n",
      "536/536 [==============================] - 595s 1s/step - loss: 0.1030 - accuracy: 0.9647 - val_loss: 0.1569 - val_accuracy: 0.9618\n",
      "Epoch 13/50\n",
      "536/536 [==============================] - ETA: 0s - loss: 0.0816 - accuracy: 0.9741\n",
      "Epoch 13: val_accuracy did not improve from 0.96222\n",
      "536/536 [==============================] - 595s 1s/step - loss: 0.0816 - accuracy: 0.9741 - val_loss: 0.4411 - val_accuracy: 0.8727\n",
      "Epoch 14/50\n",
      "536/536 [==============================] - ETA: 0s - loss: 0.0710 - accuracy: 0.9763\n",
      "Epoch 14: val_accuracy did not improve from 0.96222\n",
      "536/536 [==============================] - 595s 1s/step - loss: 0.0710 - accuracy: 0.9763 - val_loss: 0.2179 - val_accuracy: 0.9510\n",
      "Epoch 15/50\n",
      "536/536 [==============================] - ETA: 0s - loss: 0.0687 - accuracy: 0.9773\n",
      "Epoch 15: val_accuracy did not improve from 0.96222\n",
      "536/536 [==============================] - 595s 1s/step - loss: 0.0687 - accuracy: 0.9773 - val_loss: 0.1828 - val_accuracy: 0.9613\n",
      "Epoch 16/50\n",
      "536/536 [==============================] - ETA: 0s - loss: 0.0722 - accuracy: 0.9760\n",
      "Epoch 16: val_accuracy did not improve from 0.96222\n",
      "536/536 [==============================] - 597s 1s/step - loss: 0.0722 - accuracy: 0.9760 - val_loss: 0.2012 - val_accuracy: 0.9492\n",
      "Epoch 17/50\n",
      "536/536 [==============================] - ETA: 0s - loss: 0.0590 - accuracy: 0.9802\n",
      "Epoch 17: val_accuracy did not improve from 0.96222\n",
      "536/536 [==============================] - 596s 1s/step - loss: 0.0590 - accuracy: 0.9802 - val_loss: 0.3395 - val_accuracy: 0.9165\n",
      "Epoch 18/50\n",
      "536/536 [==============================] - ETA: 0s - loss: 0.0562 - accuracy: 0.9828\n",
      "Epoch 18: val_accuracy improved from 0.96222 to 0.97155, saving model to models\\best_model.h5\n",
      "536/536 [==============================] - 599s 1s/step - loss: 0.0562 - accuracy: 0.9828 - val_loss: 0.1622 - val_accuracy: 0.9715\n",
      "Epoch 19/50\n",
      "536/536 [==============================] - ETA: 0s - loss: 0.0531 - accuracy: 0.9831\n",
      "Epoch 19: val_accuracy did not improve from 0.97155\n",
      "536/536 [==============================] - 598s 1s/step - loss: 0.0531 - accuracy: 0.9831 - val_loss: 0.1834 - val_accuracy: 0.9636\n",
      "Epoch 20/50\n",
      "536/536 [==============================] - ETA: 0s - loss: 0.0566 - accuracy: 0.9816\n",
      "Epoch 20: val_accuracy did not improve from 0.97155\n",
      "536/536 [==============================] - 598s 1s/step - loss: 0.0566 - accuracy: 0.9816 - val_loss: 0.1627 - val_accuracy: 0.9697\n",
      "Epoch 21/50\n",
      "536/536 [==============================] - ETA: 0s - loss: 0.0432 - accuracy: 0.9857\n",
      "Epoch 21: val_accuracy did not improve from 0.97155\n",
      "536/536 [==============================] - 595s 1s/step - loss: 0.0432 - accuracy: 0.9857 - val_loss: 0.2450 - val_accuracy: 0.9585\n",
      "Epoch 22/50\n",
      "536/536 [==============================] - ETA: 0s - loss: 0.0540 - accuracy: 0.9829\n",
      "Epoch 22: val_accuracy did not improve from 0.97155\n",
      "536/536 [==============================] - 598s 1s/step - loss: 0.0540 - accuracy: 0.9829 - val_loss: 0.1887 - val_accuracy: 0.9604\n",
      "Epoch 23/50\n",
      "536/536 [==============================] - ETA: 0s - loss: 0.0486 - accuracy: 0.9834\n",
      "Epoch 23: val_accuracy did not improve from 0.97155\n",
      "536/536 [==============================] - 598s 1s/step - loss: 0.0486 - accuracy: 0.9834 - val_loss: 0.1994 - val_accuracy: 0.9571\n",
      "Epoch 24/50\n",
      "536/536 [==============================] - ETA: 0s - loss: 0.0523 - accuracy: 0.9829\n",
      "Epoch 24: val_accuracy improved from 0.97155 to 0.97295, saving model to models\\best_model.h5\n",
      "536/536 [==============================] - 598s 1s/step - loss: 0.0523 - accuracy: 0.9829 - val_loss: 0.1423 - val_accuracy: 0.9729\n",
      "Epoch 25/50\n",
      "536/536 [==============================] - ETA: 0s - loss: 0.0485 - accuracy: 0.9853\n",
      "Epoch 25: val_accuracy did not improve from 0.97295\n",
      "536/536 [==============================] - 597s 1s/step - loss: 0.0485 - accuracy: 0.9853 - val_loss: 0.1825 - val_accuracy: 0.9650\n",
      "Epoch 26/50\n",
      "536/536 [==============================] - ETA: 0s - loss: 0.0351 - accuracy: 0.9892\n",
      "Epoch 26: val_accuracy did not improve from 0.97295\n",
      "536/536 [==============================] - 596s 1s/step - loss: 0.0351 - accuracy: 0.9892 - val_loss: 0.1995 - val_accuracy: 0.9678\n",
      "Epoch 27/50\n",
      "536/536 [==============================] - ETA: 0s - loss: 0.0466 - accuracy: 0.9853\n",
      "Epoch 27: val_accuracy did not improve from 0.97295\n",
      "536/536 [==============================] - 596s 1s/step - loss: 0.0466 - accuracy: 0.9853 - val_loss: 0.1896 - val_accuracy: 0.9692\n",
      "Epoch 28/50\n",
      "536/536 [==============================] - ETA: 0s - loss: 0.0334 - accuracy: 0.9899\n",
      "Epoch 28: val_accuracy did not improve from 0.97295\n",
      "536/536 [==============================] - 595s 1s/step - loss: 0.0334 - accuracy: 0.9899 - val_loss: 0.1699 - val_accuracy: 0.9729\n"
     ]
    },
    {
     "name": "stdout",
     "output_type": "stream",
     "text": [
      "Epoch 29/50\n",
      "536/536 [==============================] - ETA: 0s - loss: 0.0463 - accuracy: 0.9859\n",
      "Epoch 29: val_accuracy did not improve from 0.97295\n",
      "536/536 [==============================] - 594s 1s/step - loss: 0.0463 - accuracy: 0.9859 - val_loss: 0.1785 - val_accuracy: 0.9674\n",
      "Epoch 30/50\n",
      "536/536 [==============================] - ETA: 0s - loss: 0.0287 - accuracy: 0.9904\n",
      "Epoch 30: val_accuracy did not improve from 0.97295\n",
      "536/536 [==============================] - 594s 1s/step - loss: 0.0287 - accuracy: 0.9904 - val_loss: 0.1801 - val_accuracy: 0.9706\n",
      "Epoch 31/50\n",
      "536/536 [==============================] - ETA: 0s - loss: 0.0485 - accuracy: 0.9847\n",
      "Epoch 31: val_accuracy did not improve from 0.97295\n",
      "536/536 [==============================] - 596s 1s/step - loss: 0.0485 - accuracy: 0.9847 - val_loss: 0.1915 - val_accuracy: 0.9674\n",
      "Epoch 32/50\n",
      "536/536 [==============================] - ETA: 0s - loss: 0.0421 - accuracy: 0.9873\n",
      "Epoch 32: val_accuracy did not improve from 0.97295\n",
      "536/536 [==============================] - 602s 1s/step - loss: 0.0421 - accuracy: 0.9873 - val_loss: 0.1676 - val_accuracy: 0.9725\n",
      "Epoch 33/50\n",
      "536/536 [==============================] - ETA: 0s - loss: 0.0216 - accuracy: 0.9936\n",
      "Epoch 33: val_accuracy did not improve from 0.97295\n",
      "536/536 [==============================] - 596s 1s/step - loss: 0.0216 - accuracy: 0.9936 - val_loss: 0.1881 - val_accuracy: 0.9720\n",
      "Epoch 34/50\n",
      "536/536 [==============================] - ETA: 0s - loss: 0.0546 - accuracy: 0.9820\n",
      "Epoch 34: val_accuracy did not improve from 0.97295\n",
      "536/536 [==============================] - 597s 1s/step - loss: 0.0546 - accuracy: 0.9820 - val_loss: 0.2454 - val_accuracy: 0.9585\n",
      "Epoch 35/50\n",
      "536/536 [==============================] - ETA: 0s - loss: 0.0250 - accuracy: 0.9912\n",
      "Epoch 35: val_accuracy did not improve from 0.97295\n",
      "536/536 [==============================] - 599s 1s/step - loss: 0.0250 - accuracy: 0.9912 - val_loss: 0.2091 - val_accuracy: 0.9697\n",
      "Epoch 36/50\n",
      "536/536 [==============================] - ETA: 0s - loss: 0.0586 - accuracy: 0.9837\n",
      "Epoch 36: val_accuracy did not improve from 0.97295\n",
      "536/536 [==============================] - 599s 1s/step - loss: 0.0586 - accuracy: 0.9837 - val_loss: 0.2340 - val_accuracy: 0.9440\n",
      "Epoch 37/50\n",
      "536/536 [==============================] - ETA: 0s - loss: 0.0314 - accuracy: 0.9907\n",
      "Epoch 37: val_accuracy improved from 0.97295 to 0.97435, saving model to models\\best_model.h5\n",
      "536/536 [==============================] - 600s 1s/step - loss: 0.0314 - accuracy: 0.9907 - val_loss: 0.1469 - val_accuracy: 0.9743\n",
      "Epoch 38/50\n",
      "536/536 [==============================] - ETA: 0s - loss: 0.0118 - accuracy: 0.9965\n",
      "Epoch 38: val_accuracy did not improve from 0.97435\n",
      "536/536 [==============================] - 598s 1s/step - loss: 0.0118 - accuracy: 0.9965 - val_loss: 0.2047 - val_accuracy: 0.9701\n",
      "Epoch 39/50\n",
      "536/536 [==============================] - ETA: 0s - loss: 0.0316 - accuracy: 0.9899\n",
      "Epoch 39: val_accuracy did not improve from 0.97435\n",
      "536/536 [==============================] - 598s 1s/step - loss: 0.0316 - accuracy: 0.9899 - val_loss: 0.1894 - val_accuracy: 0.9734\n",
      "Epoch 40/50\n",
      "536/536 [==============================] - ETA: 0s - loss: 0.0320 - accuracy: 0.9901\n",
      "Epoch 40: val_accuracy improved from 0.97435 to 0.97621, saving model to models\\best_model.h5\n",
      "536/536 [==============================] - 598s 1s/step - loss: 0.0320 - accuracy: 0.9901 - val_loss: 0.1475 - val_accuracy: 0.9762\n",
      "Epoch 41/50\n",
      "536/536 [==============================] - ETA: 0s - loss: 0.0209 - accuracy: 0.9935\n",
      "Epoch 41: val_accuracy did not improve from 0.97621\n",
      "536/536 [==============================] - 598s 1s/step - loss: 0.0209 - accuracy: 0.9935 - val_loss: 0.2050 - val_accuracy: 0.9697\n",
      "Epoch 42/50\n",
      "536/536 [==============================] - ETA: 0s - loss: 0.0406 - accuracy: 0.9873\n",
      "Epoch 42: val_accuracy did not improve from 0.97621\n",
      "536/536 [==============================] - 597s 1s/step - loss: 0.0406 - accuracy: 0.9873 - val_loss: 0.1461 - val_accuracy: 0.9725\n",
      "Epoch 43/50\n",
      "536/536 [==============================] - ETA: 0s - loss: 0.0231 - accuracy: 0.9924\n",
      "Epoch 43: val_accuracy did not improve from 0.97621\n",
      "536/536 [==============================] - 600s 1s/step - loss: 0.0231 - accuracy: 0.9924 - val_loss: 0.1652 - val_accuracy: 0.9729\n",
      "Epoch 44/50\n",
      "536/536 [==============================] - ETA: 0s - loss: 0.0197 - accuracy: 0.9941\n",
      "Epoch 44: val_accuracy did not improve from 0.97621\n",
      "536/536 [==============================] - 601s 1s/step - loss: 0.0197 - accuracy: 0.9941 - val_loss: 0.2216 - val_accuracy: 0.9711\n",
      "Epoch 45/50\n",
      "536/536 [==============================] - ETA: 0s - loss: 0.0282 - accuracy: 0.9908\n",
      "Epoch 45: val_accuracy did not improve from 0.97621\n",
      "536/536 [==============================] - 598s 1s/step - loss: 0.0282 - accuracy: 0.9908 - val_loss: 0.1835 - val_accuracy: 0.9701\n",
      "Epoch 46/50\n",
      "536/536 [==============================] - ETA: 0s - loss: 0.0465 - accuracy: 0.9863\n",
      "Epoch 46: val_accuracy improved from 0.97621 to 0.97854, saving model to models\\best_model.h5\n",
      "536/536 [==============================] - 599s 1s/step - loss: 0.0465 - accuracy: 0.9863 - val_loss: 0.1668 - val_accuracy: 0.9785\n",
      "Epoch 47/50\n",
      "536/536 [==============================] - ETA: 0s - loss: 0.0146 - accuracy: 0.9949\n",
      "Epoch 47: val_accuracy did not improve from 0.97854\n",
      "536/536 [==============================] - 599s 1s/step - loss: 0.0146 - accuracy: 0.9949 - val_loss: 0.2315 - val_accuracy: 0.9599\n",
      "Epoch 48/50\n",
      "536/536 [==============================] - ETA: 0s - loss: 0.0322 - accuracy: 0.9901\n",
      "Epoch 48: val_accuracy did not improve from 0.97854\n",
      "536/536 [==============================] - 599s 1s/step - loss: 0.0322 - accuracy: 0.9901 - val_loss: 0.2249 - val_accuracy: 0.9669\n",
      "Epoch 49/50\n",
      "536/536 [==============================] - ETA: 0s - loss: 0.0291 - accuracy: 0.9902\n",
      "Epoch 49: val_accuracy did not improve from 0.97854\n",
      "536/536 [==============================] - 600s 1s/step - loss: 0.0291 - accuracy: 0.9902 - val_loss: 0.2091 - val_accuracy: 0.9669\n",
      "Epoch 50/50\n",
      "536/536 [==============================] - ETA: 0s - loss: 0.0256 - accuracy: 0.9915\n",
      "Epoch 50: val_accuracy did not improve from 0.97854\n",
      "536/536 [==============================] - 600s 1s/step - loss: 0.0256 - accuracy: 0.9915 - val_loss: 0.2014 - val_accuracy: 0.9711\n"
     ]
    }
   ],
   "source": [
    "# process\n",
    "# batch size - 32\n",
    "# epoch - 50\n",
    "# saving best model\n",
    "\n",
    "history1 = model1.fit(\n",
    "    train_ds,\n",
    "    batch_size=32,\n",
    "    validation_data=val_ds,\n",
    "    verbose=1,\n",
    "    epochs=50,\n",
    "    callbacks=[saveBestModel]\n",
    ")"
   ]
  },
  {
   "cell_type": "markdown",
   "id": "9cac95b8",
   "metadata": {},
   "source": [
    "### Best models' validation accuracy "
   ]
  },
  {
   "cell_type": "code",
   "execution_count": 19,
   "id": "e13014f1",
   "metadata": {
    "scrolled": true
   },
   "outputs": [
    {
     "data": {
      "text/plain": [
       "0.9785447716712952"
      ]
     },
     "execution_count": 19,
     "metadata": {},
     "output_type": "execute_result"
    }
   ],
   "source": [
    "max(history1.history['val_accuracy'])"
   ]
  },
  {
   "cell_type": "markdown",
   "id": "d828cd60",
   "metadata": {},
   "source": [
    "### Loading Best Model From Directory"
   ]
  },
  {
   "cell_type": "code",
   "execution_count": 3,
   "id": "46b20d06",
   "metadata": {},
   "outputs": [
    {
     "name": "stdout",
     "output_type": "stream",
     "text": [
      "Model: \"sequential_2\"\n",
      "_________________________________________________________________\n",
      " Layer (type)                Output Shape              Param #   \n",
      "=================================================================\n",
      " sequential (Sequential)     (None, 256, 256, 1)       0         \n",
      "                                                                 \n",
      " conv2d_6 (Conv2D)           (None, 254, 254, 32)      320       \n",
      "                                                                 \n",
      " max_pooling2d_6 (MaxPooling  (None, 127, 127, 32)     0         \n",
      " 2D)                                                             \n",
      "                                                                 \n",
      " conv2d_7 (Conv2D)           (None, 125, 125, 64)      18496     \n",
      "                                                                 \n",
      " max_pooling2d_7 (MaxPooling  (None, 62, 62, 64)       0         \n",
      " 2D)                                                             \n",
      "                                                                 \n",
      " conv2d_8 (Conv2D)           (None, 60, 60, 64)        36928     \n",
      "                                                                 \n",
      " max_pooling2d_8 (MaxPooling  (None, 30, 30, 64)       0         \n",
      " 2D)                                                             \n",
      "                                                                 \n",
      " conv2d_9 (Conv2D)           (None, 28, 28, 64)        36928     \n",
      "                                                                 \n",
      " max_pooling2d_9 (MaxPooling  (None, 14, 14, 64)       0         \n",
      " 2D)                                                             \n",
      "                                                                 \n",
      " conv2d_10 (Conv2D)          (None, 12, 12, 128)       73856     \n",
      "                                                                 \n",
      " max_pooling2d_10 (MaxPoolin  (None, 6, 6, 128)        0         \n",
      " g2D)                                                            \n",
      "                                                                 \n",
      " conv2d_11 (Conv2D)          (None, 4, 4, 128)         147584    \n",
      "                                                                 \n",
      " max_pooling2d_11 (MaxPoolin  (None, 2, 2, 128)        0         \n",
      " g2D)                                                            \n",
      "                                                                 \n",
      " flatten_1 (Flatten)         (None, 512)               0         \n",
      "                                                                 \n",
      " dense_2 (Dense)             (None, 128)               65664     \n",
      "                                                                 \n",
      " dense_3 (Dense)             (None, 48)                6192      \n",
      "                                                                 \n",
      "=================================================================\n",
      "Total params: 385,968\n",
      "Trainable params: 385,968\n",
      "Non-trainable params: 0\n",
      "_________________________________________________________________\n"
     ]
    }
   ],
   "source": [
    "from tensorflow.keras.models import load_model\n",
    "best_model = load_model('models/best_model.h5')\n",
    "\n",
    "\n",
    "# summary of best model \n",
    "\n",
    "best_model.summary()"
   ]
  },
  {
   "cell_type": "markdown",
   "id": "bdd2fa2d",
   "metadata": {},
   "source": [
    "### Evalute best Model on Test Data"
   ]
  },
  {
   "cell_type": "code",
   "execution_count": 18,
   "id": "8ab72b69",
   "metadata": {},
   "outputs": [
    {
     "name": "stdout",
     "output_type": "stream",
     "text": [
      "68/68 [==============================] - 48s 279ms/step - loss: 0.1573 - accuracy: 0.9738\n"
     ]
    },
    {
     "data": {
      "text/plain": [
       "[0.1572905033826828, 0.973793089389801]"
      ]
     },
     "execution_count": 18,
     "metadata": {},
     "output_type": "execute_result"
    }
   ],
   "source": [
    "new_model.evaluate(test_ds)"
   ]
  },
  {
   "cell_type": "markdown",
   "id": "e86cfe4a",
   "metadata": {},
   "source": [
    "### plot Train Accuracy vs Validation Accuracy"
   ]
  },
  {
   "cell_type": "code",
   "execution_count": 20,
   "id": "6f6d867a",
   "metadata": {},
   "outputs": [
    {
     "data": {
      "text/plain": [
       "[<matplotlib.lines.Line2D at 0x19c6764d130>]"
      ]
     },
     "execution_count": 20,
     "metadata": {},
     "output_type": "execute_result"
    },
    {
     "data": {
      "image/png": "[encoded data removed]",
      "text/plain": [
       "<Figure size 432x288 with 1 Axes>"
      ]
     },
     "metadata": {
      "needs_background": "light"
     },
     "output_type": "display_data"
    }
   ],
   "source": [
    "plt.plot(range(0,50),history13.history['accuracy'])\n",
    "plt.plot(range(0,50),history13.history['val_accuracy'])"
   ]
  },
  {
   "cell_type": "code",
   "execution_count": null,
   "id": "9149c674",
   "metadata": {},
   "outputs": [],
   "source": []
  },
  {
   "cell_type": "markdown",
   "id": "ba700e3f",
   "metadata": {},
   "source": [
    "## Model 2 - Neural Network"
   ]
  },
  {
   "cell_type": "markdown",
   "id": "c960c6cd",
   "metadata": {},
   "source": [
    "### Load dataset"
   ]
  },
  {
   "cell_type": "code",
   "execution_count": 3,
   "id": "55bd15e5",
   "metadata": {},
   "outputs": [],
   "source": [
    "imagepath=list(paths.list_images(\"G:\\GCR\\Query\"))"
   ]
  },
  {
   "cell_type": "code",
   "execution_count": 4,
   "id": "566a89c6",
   "metadata": {},
   "outputs": [],
   "source": [
    "img = []\n",
    "label = []\n",
    "for image in imagepath:\n",
    "    label.append(image.split('\\\\')[3])\n",
    "    images = cv2.imread(image)\n",
    "    imgGray = cv2.cvtColor(images, cv2.COLOR_BGR2GRAY)\n",
    "    new_image=cv2.subtract(255, imgGray) \n",
    "    image_resize = (cv2.resize(new_image, (28,28)))\n",
    "    \n",
    "    img.append(image_resize)"
   ]
  },
  {
   "cell_type": "markdown",
   "id": "b798a263",
   "metadata": {},
   "source": [
    "### Create label"
   ]
  },
  {
   "cell_type": "code",
   "execution_count": 5,
   "id": "83103f0d",
   "metadata": {},
   "outputs": [],
   "source": [
    "classes=np.unique(label)"
   ]
  },
  {
   "cell_type": "code",
   "execution_count": 6,
   "id": "da6a60af",
   "metadata": {},
   "outputs": [],
   "source": [
    "df = pd.DataFrame(label).value_counts(sort=False)\n",
    "label_num = []\n",
    "j=0\n",
    "for i in df:\n",
    "    for z in range(i):\n",
    "        label_num.append(j)  \n",
    "    j+=1"
   ]
  },
  {
   "cell_type": "markdown",
   "id": "967a4406",
   "metadata": {},
   "source": [
    "### Train-Test split"
   ]
  },
  {
   "cell_type": "code",
   "execution_count": 7,
   "id": "64025980",
   "metadata": {},
   "outputs": [],
   "source": [
    "X_train, X_test, y_train, y_test = train_test_split(img, label_num, test_size=0.3)"
   ]
  },
  {
   "cell_type": "markdown",
   "id": "5f6ffa12",
   "metadata": {},
   "source": [
    "### Data pre-processing"
   ]
  },
  {
   "cell_type": "code",
   "execution_count": 8,
   "id": "a6c2fad8",
   "metadata": {},
   "outputs": [],
   "source": [
    "# Normalization\n",
    "x_train= np.array(X_train)/255\n",
    "x_test = np.array(X_test)/255"
   ]
  },
  {
   "cell_type": "code",
   "execution_count": 9,
   "id": "6a88cf44",
   "metadata": {},
   "outputs": [],
   "source": [
    "train_x = np.asarray(x_train)\n",
    "train_y = np.asarray(y_train)\n",
    "test_x = np.asarray(x_test)\n",
    "test_y = np.asarray(y_test)"
   ]
  },
  {
   "cell_type": "markdown",
   "id": "d0609eb8",
   "metadata": {},
   "source": [
    "### Create NN model"
   ]
  },
  {
   "cell_type": "markdown",
   "id": "e4018ad3",
   "metadata": {},
   "source": [
    "#### Without regularization"
   ]
  },
  {
   "cell_type": "code",
   "execution_count": 19,
   "id": "237d8c13",
   "metadata": {},
   "outputs": [],
   "source": [
    "model_nn = models.Sequential([\n",
    "    layers.Flatten(),\n",
    "    layers.Dense(200, activation='relu'),\n",
    "    layers.Dense(150, activation='relu'),\n",
    "    layers.Dense(100, activation='relu'),\n",
    "    layers.Dense(48, activation='softmax')\n",
    "])\n",
    "model_nn.build(input_shape=[None,28,28])"
   ]
  },
  {
   "cell_type": "code",
   "execution_count": 25,
   "id": "1bb59a94",
   "metadata": {},
   "outputs": [
    {
     "name": "stdout",
     "output_type": "stream",
     "text": [
      "Model: \"sequential_2\"\n",
      "_________________________________________________________________\n",
      " Layer (type)                Output Shape              Param #   \n",
      "=================================================================\n",
      " flatten_2 (Flatten)         (None, 784)               0         \n",
      "                                                                 \n",
      " dense_8 (Dense)             (None, 200)               157000    \n",
      "                                                                 \n",
      " dense_9 (Dense)             (None, 150)               30150     \n",
      "                                                                 \n",
      " dense_10 (Dense)            (None, 100)               15100     \n",
      "                                                                 \n",
      " dense_11 (Dense)            (None, 48)                4848      \n",
      "                                                                 \n",
      "=================================================================\n",
      "Total params: 207,098\n",
      "Trainable params: 207,098\n",
      "Non-trainable params: 0\n",
      "_________________________________________________________________\n"
     ]
    }
   ],
   "source": [
    "model_nn.summary()"
   ]
  },
  {
   "cell_type": "markdown",
   "id": "7435e78e",
   "metadata": {},
   "source": [
    "#### With Dropout and L2 regularization"
   ]
  },
  {
   "cell_type": "code",
   "execution_count": 112,
   "id": "c4f9f1e7",
   "metadata": {},
   "outputs": [],
   "source": [
    "model_nn1 = models.Sequential([\n",
    "    layers.Flatten(),\n",
    "    layers.Dense(200, activation='relu',kernel_regularizer=l2(0.001)),\n",
    "     layers.Dropout(0.3),\n",
    "     layers.Dense(150, activation='relu',kernel_regularizer=l2(0.001)),\n",
    "     layers.Dropout(0.3),\n",
    "    layers.Dense(100, activation='relu',kernel_regularizer=l2(0.001)),\n",
    "     layers.Dropout(0.3),\n",
    "    layers.Dense(48, activation='softmax')\n",
    "])\n",
    "model_nn1.build(input_shape=[None,28,28])"
   ]
  },
  {
   "cell_type": "code",
   "execution_count": 113,
   "id": "086322ee",
   "metadata": {},
   "outputs": [
    {
     "name": "stdout",
     "output_type": "stream",
     "text": [
      "Model: \"sequential_27\"\n",
      "_________________________________________________________________\n",
      " Layer (type)                Output Shape              Param #   \n",
      "=================================================================\n",
      " flatten_27 (Flatten)        (None, 784)               0         \n",
      "                                                                 \n",
      " dense_93 (Dense)            (None, 200)               157000    \n",
      "                                                                 \n",
      " dropout_57 (Dropout)        (None, 200)               0         \n",
      "                                                                 \n",
      " dense_94 (Dense)            (None, 150)               30150     \n",
      "                                                                 \n",
      " dropout_58 (Dropout)        (None, 150)               0         \n",
      "                                                                 \n",
      " dense_95 (Dense)            (None, 100)               15100     \n",
      "                                                                 \n",
      " dropout_59 (Dropout)        (None, 100)               0         \n",
      "                                                                 \n",
      " dense_96 (Dense)            (None, 48)                4848      \n",
      "                                                                 \n",
      "=================================================================\n",
      "Total params: 207,098\n",
      "Trainable params: 207,098\n",
      "Non-trainable params: 0\n",
      "_________________________________________________________________\n"
     ]
    }
   ],
   "source": [
    "model_nn1.summary()"
   ]
  },
  {
   "cell_type": "markdown",
   "id": "3929a002",
   "metadata": {},
   "source": [
    "### loss and optimizer"
   ]
  },
  {
   "cell_type": "code",
   "execution_count": 114,
   "id": "0db6cb5c",
   "metadata": {},
   "outputs": [],
   "source": [
    "model_nn.compile(loss = 'sparse_categorical_crossentropy',\n",
    "                optimizer = 'adam',\n",
    "                metrics=['accuracy'])\n",
    "\n",
    "\n",
    "model_nn1.compile(loss = 'sparse_categorical_crossentropy',\n",
    "                optimizer = 'adam',\n",
    "                metrics=['accuracy'])\n"
   ]
  },
  {
   "cell_type": "markdown",
   "id": "7a8d1208",
   "metadata": {},
   "source": [
    "### Train Model"
   ]
  },
  {
   "cell_type": "code",
   "execution_count": 22,
   "id": "65f2eed5",
   "metadata": {},
   "outputs": [
    {
     "name": "stdout",
     "output_type": "stream",
     "text": [
      "Epoch 1/30\n",
      "423/423 [==============================] - 2s 3ms/step - loss: 3.3268 - accuracy: 0.1459 - val_loss: 2.7483 - val_accuracy: 0.2582\n",
      "Epoch 2/30\n",
      "423/423 [==============================] - 1s 3ms/step - loss: 2.3330 - accuracy: 0.3640 - val_loss: 2.2455 - val_accuracy: 0.3859\n",
      "Epoch 3/30\n",
      "423/423 [==============================] - 1s 3ms/step - loss: 1.7148 - accuracy: 0.5183 - val_loss: 2.1747 - val_accuracy: 0.4059\n",
      "Epoch 4/30\n",
      "423/423 [==============================] - 1s 3ms/step - loss: 1.2997 - accuracy: 0.6264 - val_loss: 2.0080 - val_accuracy: 0.4671\n",
      "Epoch 5/30\n",
      "423/423 [==============================] - 1s 3ms/step - loss: 0.9875 - accuracy: 0.7052 - val_loss: 2.0483 - val_accuracy: 0.4691\n",
      "Epoch 6/30\n",
      "423/423 [==============================] - 1s 2ms/step - loss: 0.7443 - accuracy: 0.7761 - val_loss: 2.2392 - val_accuracy: 0.4731\n",
      "Epoch 7/30\n",
      "423/423 [==============================] - 1s 2ms/step - loss: 0.5643 - accuracy: 0.8273 - val_loss: 2.3139 - val_accuracy: 0.4691\n",
      "Epoch 8/30\n",
      "423/423 [==============================] - 1s 3ms/step - loss: 0.4144 - accuracy: 0.8756 - val_loss: 2.5496 - val_accuracy: 0.4824\n",
      "Epoch 9/30\n",
      "423/423 [==============================] - 1s 3ms/step - loss: 0.3199 - accuracy: 0.9049 - val_loss: 2.7879 - val_accuracy: 0.4704\n",
      "Epoch 10/30\n",
      "423/423 [==============================] - 1s 3ms/step - loss: 0.2641 - accuracy: 0.9171 - val_loss: 2.8168 - val_accuracy: 0.4824\n",
      "Epoch 11/30\n",
      "423/423 [==============================] - 1s 3ms/step - loss: 0.1939 - accuracy: 0.9417 - val_loss: 3.0815 - val_accuracy: 0.4970\n",
      "Epoch 12/30\n",
      "423/423 [==============================] - 1s 3ms/step - loss: 0.1731 - accuracy: 0.9463 - val_loss: 3.2783 - val_accuracy: 0.4790\n",
      "Epoch 13/30\n",
      "423/423 [==============================] - 1s 3ms/step - loss: 0.1596 - accuracy: 0.9527 - val_loss: 3.7364 - val_accuracy: 0.4657\n",
      "Epoch 14/30\n",
      "423/423 [==============================] - 1s 3ms/step - loss: 0.1604 - accuracy: 0.9484 - val_loss: 3.6121 - val_accuracy: 0.4750\n",
      "Epoch 15/30\n",
      "423/423 [==============================] - 1s 3ms/step - loss: 0.1091 - accuracy: 0.9674 - val_loss: 3.7542 - val_accuracy: 0.4877\n",
      "Epoch 16/30\n",
      "423/423 [==============================] - 1s 3ms/step - loss: 0.1220 - accuracy: 0.9620 - val_loss: 3.8837 - val_accuracy: 0.4810\n",
      "Epoch 17/30\n",
      "423/423 [==============================] - 1s 3ms/step - loss: 0.1259 - accuracy: 0.9608 - val_loss: 4.2199 - val_accuracy: 0.4637\n",
      "Epoch 18/30\n",
      "423/423 [==============================] - 1s 3ms/step - loss: 0.0950 - accuracy: 0.9716 - val_loss: 4.2532 - val_accuracy: 0.4937\n",
      "Epoch 19/30\n",
      "423/423 [==============================] - 1s 3ms/step - loss: 0.0612 - accuracy: 0.9823 - val_loss: 4.4824 - val_accuracy: 0.4790\n",
      "Epoch 20/30\n",
      "423/423 [==============================] - 1s 3ms/step - loss: 0.0828 - accuracy: 0.9753 - val_loss: 4.6957 - val_accuracy: 0.4790\n",
      "Epoch 21/30\n",
      "423/423 [==============================] - 1s 3ms/step - loss: 0.1254 - accuracy: 0.9574 - val_loss: 4.4102 - val_accuracy: 0.4904\n",
      "Epoch 22/30\n",
      "423/423 [==============================] - 1s 3ms/step - loss: 0.1030 - accuracy: 0.9666 - val_loss: 4.4770 - val_accuracy: 0.4910\n",
      "Epoch 23/30\n",
      "423/423 [==============================] - 1s 3ms/step - loss: 0.0819 - accuracy: 0.9749 - val_loss: 4.5272 - val_accuracy: 0.4930\n",
      "Epoch 24/30\n",
      "423/423 [==============================] - 1s 2ms/step - loss: 0.0379 - accuracy: 0.9894 - val_loss: 4.8648 - val_accuracy: 0.4757\n",
      "Epoch 25/30\n",
      "423/423 [==============================] - 1s 2ms/step - loss: 0.0619 - accuracy: 0.9803 - val_loss: 5.1039 - val_accuracy: 0.4750\n",
      "Epoch 26/30\n",
      "423/423 [==============================] - 1s 3ms/step - loss: 0.1378 - accuracy: 0.9575 - val_loss: 4.7108 - val_accuracy: 0.4830\n",
      "Epoch 27/30\n",
      "423/423 [==============================] - 1s 3ms/step - loss: 0.0780 - accuracy: 0.9755 - val_loss: 4.9833 - val_accuracy: 0.4910\n",
      "Epoch 28/30\n",
      "423/423 [==============================] - 1s 2ms/step - loss: 0.0698 - accuracy: 0.9784 - val_loss: 5.3463 - val_accuracy: 0.4704\n",
      "Epoch 29/30\n",
      "423/423 [==============================] - 1s 3ms/step - loss: 0.1060 - accuracy: 0.9660 - val_loss: 5.0631 - val_accuracy: 0.4824\n",
      "Epoch 30/30\n",
      "423/423 [==============================] - 1s 3ms/step - loss: 0.0513 - accuracy: 0.9848 - val_loss: 5.0741 - val_accuracy: 0.4857\n"
     ]
    }
   ],
   "source": [
    "# Training model without regularization\n",
    "\n",
    "model_history = model_nn.fit(train_x,train_y,epochs=30,verbose=1, validation_split=0.1)"
   ]
  },
  {
   "cell_type": "code",
   "execution_count": 115,
   "id": "68064513",
   "metadata": {},
   "outputs": [
    {
     "name": "stdout",
     "output_type": "stream",
     "text": [
      "Epoch 1/30\n",
      "423/423 [==============================] - 2s 4ms/step - loss: 4.1109 - accuracy: 0.0532 - val_loss: 3.6532 - val_accuracy: 0.1510\n",
      "Epoch 2/30\n",
      "423/423 [==============================] - 2s 4ms/step - loss: 3.5326 - accuracy: 0.1503 - val_loss: 3.1745 - val_accuracy: 0.2555\n",
      "Epoch 3/30\n",
      "423/423 [==============================] - 1s 3ms/step - loss: 3.1913 - accuracy: 0.2223 - val_loss: 2.9079 - val_accuracy: 0.3160\n",
      "Epoch 4/30\n",
      "423/423 [==============================] - 1s 3ms/step - loss: 2.9706 - accuracy: 0.2812 - val_loss: 2.7434 - val_accuracy: 0.3639\n",
      "Epoch 5/30\n",
      "423/423 [==============================] - 1s 3ms/step - loss: 2.7989 - accuracy: 0.3227 - val_loss: 2.6685 - val_accuracy: 0.3832\n",
      "Epoch 6/30\n",
      "423/423 [==============================] - 1s 3ms/step - loss: 2.6715 - accuracy: 0.3607 - val_loss: 2.5458 - val_accuracy: 0.4152\n",
      "Epoch 7/30\n",
      "423/423 [==============================] - 2s 4ms/step - loss: 2.5666 - accuracy: 0.3925 - val_loss: 2.4997 - val_accuracy: 0.4451\n",
      "Epoch 8/30\n",
      "423/423 [==============================] - 2s 4ms/step - loss: 2.4871 - accuracy: 0.4114 - val_loss: 2.4934 - val_accuracy: 0.4351\n",
      "Epoch 9/30\n",
      "423/423 [==============================] - 1s 3ms/step - loss: 2.4389 - accuracy: 0.4346 - val_loss: 2.4856 - val_accuracy: 0.4458\n",
      "Epoch 10/30\n",
      "423/423 [==============================] - 2s 4ms/step - loss: 2.3784 - accuracy: 0.4528 - val_loss: 2.4563 - val_accuracy: 0.4531\n",
      "Epoch 11/30\n",
      "423/423 [==============================] - 1s 3ms/step - loss: 2.3446 - accuracy: 0.4646 - val_loss: 2.4601 - val_accuracy: 0.4504\n",
      "Epoch 12/30\n",
      "423/423 [==============================] - 1s 3ms/step - loss: 2.2844 - accuracy: 0.4780 - val_loss: 2.4489 - val_accuracy: 0.4657\n",
      "Epoch 13/30\n",
      "423/423 [==============================] - 1s 3ms/step - loss: 2.2599 - accuracy: 0.4902 - val_loss: 2.4626 - val_accuracy: 0.4671\n",
      "Epoch 14/30\n",
      "423/423 [==============================] - 2s 4ms/step - loss: 2.2335 - accuracy: 0.4967 - val_loss: 2.4431 - val_accuracy: 0.4677\n",
      "Epoch 15/30\n",
      "423/423 [==============================] - 1s 3ms/step - loss: 2.1920 - accuracy: 0.5157 - val_loss: 2.4647 - val_accuracy: 0.4691\n",
      "Epoch 16/30\n",
      "423/423 [==============================] - 1s 4ms/step - loss: 2.1659 - accuracy: 0.5243 - val_loss: 2.4516 - val_accuracy: 0.4777\n",
      "Epoch 17/30\n",
      "423/423 [==============================] - 2s 4ms/step - loss: 2.1582 - accuracy: 0.5219 - val_loss: 2.4900 - val_accuracy: 0.4524\n",
      "Epoch 18/30\n",
      "423/423 [==============================] - 1s 3ms/step - loss: 2.1222 - accuracy: 0.5325 - val_loss: 2.4677 - val_accuracy: 0.4544\n",
      "Epoch 19/30\n",
      "423/423 [==============================] - 1s 3ms/step - loss: 2.1228 - accuracy: 0.5344 - val_loss: 2.4386 - val_accuracy: 0.4884\n",
      "Epoch 20/30\n",
      "423/423 [==============================] - 2s 4ms/step - loss: 2.0993 - accuracy: 0.5467 - val_loss: 2.4313 - val_accuracy: 0.4830\n",
      "Epoch 21/30\n",
      "423/423 [==============================] - 1s 3ms/step - loss: 2.0796 - accuracy: 0.5515 - val_loss: 2.4887 - val_accuracy: 0.4870\n",
      "Epoch 22/30\n",
      "423/423 [==============================] - 1s 3ms/step - loss: 2.0809 - accuracy: 0.5479 - val_loss: 2.4764 - val_accuracy: 0.4824\n",
      "Epoch 23/30\n",
      "423/423 [==============================] - 2s 4ms/step - loss: 2.0435 - accuracy: 0.5617 - val_loss: 2.4685 - val_accuracy: 0.4744\n",
      "Epoch 24/30\n",
      "423/423 [==============================] - 2s 4ms/step - loss: 2.0535 - accuracy: 0.5613 - val_loss: 2.5089 - val_accuracy: 0.4764\n",
      "Epoch 25/30\n",
      "423/423 [==============================] - 2s 4ms/step - loss: 2.0344 - accuracy: 0.5624 - val_loss: 2.4624 - val_accuracy: 0.4937\n",
      "Epoch 26/30\n",
      "423/423 [==============================] - 2s 4ms/step - loss: 2.0337 - accuracy: 0.5680 - val_loss: 2.4756 - val_accuracy: 0.4704\n",
      "Epoch 27/30\n",
      "423/423 [==============================] - 2s 4ms/step - loss: 1.9997 - accuracy: 0.5809 - val_loss: 2.4663 - val_accuracy: 0.4897\n",
      "Epoch 28/30\n",
      "423/423 [==============================] - 2s 4ms/step - loss: 1.9860 - accuracy: 0.5826 - val_loss: 2.4492 - val_accuracy: 0.4977\n",
      "Epoch 29/30\n",
      "423/423 [==============================] - 2s 4ms/step - loss: 1.9898 - accuracy: 0.5855 - val_loss: 2.4834 - val_accuracy: 0.4770\n",
      "Epoch 30/30\n",
      "423/423 [==============================] - 2s 4ms/step - loss: 1.9801 - accuracy: 0.5868 - val_loss: 2.4822 - val_accuracy: 0.4757\n"
     ]
    }
   ],
   "source": [
    "# Training model with regularization\n",
    "\n",
    "model_history1 = model_nn1.fit(train_x,train_y,epochs=30,verbose=1, validation_split=0.1)"
   ]
  },
  {
   "cell_type": "markdown",
   "id": "998d8292",
   "metadata": {},
   "source": [
    "### Test Evalute"
   ]
  },
  {
   "cell_type": "code",
   "execution_count": 28,
   "id": "4b0962c2",
   "metadata": {},
   "outputs": [
    {
     "name": "stdout",
     "output_type": "stream",
     "text": [
      "202/202 [==============================] - 0s 2ms/step - loss: 5.1799 - accuracy: 0.4752\n"
     ]
    },
    {
     "data": {
      "text/plain": [
       "[5.179867744445801, 0.47516298294067383]"
      ]
     },
     "execution_count": 28,
     "metadata": {},
     "output_type": "execute_result"
    }
   ],
   "source": [
    "# Test evalute for model without regularized\n",
    "\n",
    "model_nn.evaluate(test_x, test_y)"
   ]
  },
  {
   "cell_type": "code",
   "execution_count": 116,
   "id": "499bfb8f",
   "metadata": {},
   "outputs": [
    {
     "name": "stdout",
     "output_type": "stream",
     "text": [
      "202/202 [==============================] - 0s 2ms/step - loss: 2.5466 - accuracy: 0.4776\n"
     ]
    },
    {
     "data": {
      "text/plain": [
       "[2.54655385017395, 0.47764667868614197]"
      ]
     },
     "execution_count": 116,
     "metadata": {},
     "output_type": "execute_result"
    }
   ],
   "source": [
    "# Test evalute for model with regularized\n",
    "\n",
    "model_nn1.evaluate(test_x, test_y)"
   ]
  },
  {
   "cell_type": "markdown",
   "id": "9ce801b1",
   "metadata": {},
   "source": [
    "### Visualization"
   ]
  },
  {
   "cell_type": "code",
   "execution_count": 110,
   "id": "f23cef97",
   "metadata": {},
   "outputs": [
    {
     "data": {
      "text/plain": [
       "Text(0.5, 1.0, 'Model without regularized')"
      ]
     },
     "execution_count": 110,
     "metadata": {},
     "output_type": "execute_result"
    },
    {
     "data": {
      "image/png": "[encoded data removed]",
      "text/plain": [
       "<Figure size 432x288 with 1 Axes>"
      ]
     },
     "metadata": {
      "needs_background": "light"
     },
     "output_type": "display_data"
    }
   ],
   "source": [
    "# non-regularized model\n",
    "\n",
    "plt.plot(range(0,30),model_history.history['accuracy'], label = 'train accuracy')\n",
    "plt.plot(range(0,30),model_history.history['val_accuracy'],label = 'val accuracy')\n",
    "plt.xlabel('epoch')\n",
    "plt.ylabel('accuracy')\n",
    "plt.legend()\n",
    "plt.title('Model without regularized')"
   ]
  },
  {
   "cell_type": "code",
   "execution_count": 117,
   "id": "05a9c836",
   "metadata": {},
   "outputs": [
    {
     "data": {
      "text/plain": [
       "Text(0.5, 1.0, 'Model with regularized')"
      ]
     },
     "execution_count": 117,
     "metadata": {},
     "output_type": "execute_result"
    },
    {
     "data": {
      "image/png": "[encoded data removed]",
      "text/plain": [
       "<Figure size 432x288 with 1 Axes>"
      ]
     },
     "metadata": {
      "needs_background": "light"
     },
     "output_type": "display_data"
    }
   ],
   "source": [
    "# regularized model\n",
    "\n",
    "plt.plot(range(0,30),model_history1.history['accuracy'], label = 'train accuracy')\n",
    "plt.plot(range(0,30),model_history1.history['val_accuracy'],label = 'val accuracy')\n",
    "plt.xlabel('epoch')\n",
    "plt.ylabel('accuracy')\n",
    "plt.legend()\n",
    "plt.title('Model with regularized')"
   ]
  },
  {
   "cell_type": "markdown",
   "id": "9c24aafa",
   "metadata": {},
   "source": [
    "## Model3 -KNN"
   ]
  },
  {
   "cell_type": "code",
   "execution_count": 53,
   "id": "82601ea7",
   "metadata": {},
   "outputs": [],
   "source": [
    "imagepath=list(paths.list_images(\"G:\\GCR\\Query\"))"
   ]
  },
  {
   "cell_type": "code",
   "execution_count": 32,
   "id": "37edb82d",
   "metadata": {},
   "outputs": [],
   "source": [
    "img = []\n",
    "label = []\n",
    "for image in imagepath:\n",
    "    label.append(image.split('\\\\')[3])\n",
    "    images = cv2.imread(image)\n",
    "    imgGray = color.rgb2gray(images)\n",
    "    image_resize = (cv2.resize(imgGray, (100,100)))\n",
    "    \n",
    "    img.append(image_resize.flatten())"
   ]
  },
  {
   "cell_type": "code",
   "execution_count": null,
   "id": "27813b6a",
   "metadata": {},
   "outputs": [],
   "source": [
    "X_train, X_test, y_train, y_test = train_test_split(img, label_num, test_size=0.3)"
   ]
  },
  {
   "cell_type": "code",
   "execution_count": 6,
   "id": "baa442c1",
   "metadata": {},
   "outputs": [],
   "source": [
    "Knn = KNeighborsClassifier(n_neighbors=1)"
   ]
  },
  {
   "cell_type": "code",
   "execution_count": 7,
   "id": "5f2a816e",
   "metadata": {},
   "outputs": [
    {
     "data": {
      "text/html": [
       "<style>#sk-container-id-1 {color: black;background-color: white;}#sk-container-id-1 pre{padding: 0;}#sk-container-id-1 div.sk-toggleable {background-color: white;}#sk-container-id-1 label.sk-toggleable__label {cursor: pointer;display: block;width: 100%;margin-bottom: 0;padding: 0.3em;box-sizing: border-box;text-align: center;}#sk-container-id-1 label.sk-toggleable__label-arrow:before {content: \"▸\";float: left;margin-right: 0.25em;color: #696969;}#sk-container-id-1 label.sk-toggleable__label-arrow:hover:before {color: black;}#sk-container-id-1 div.sk-estimator:hover label.sk-toggleable__label-arrow:before {color: black;}#sk-container-id-1 div.sk-toggleable__content {max-height: 0;max-width: 0;overflow: hidden;text-align: left;background-color: #f0f8ff;}#sk-container-id-1 div.sk-toggleable__content pre {margin: 0.2em;color: black;border-radius: 0.25em;background-color: #f0f8ff;}#sk-container-id-1 input.sk-toggleable__control:checked~div.sk-toggleable__content {max-height: 200px;max-width: 100%;overflow: auto;}#sk-container-id-1 input.sk-toggleable__control:checked~label.sk-toggleable__label-arrow:before {content: \"▾\";}#sk-container-id-1 div.sk-estimator input.sk-toggleable__control:checked~label.sk-toggleable__label {background-color: #d4ebff;}#sk-container-id-1 div.sk-label input.sk-toggleable__control:checked~label.sk-toggleable__label {background-color: #d4ebff;}#sk-container-id-1 input.sk-hidden--visually {border: 0;clip: rect(1px 1px 1px 1px);clip: rect(1px, 1px, 1px, 1px);height: 1px;margin: -1px;overflow: hidden;padding: 0;position: absolute;width: 1px;}#sk-container-id-1 div.sk-estimator {font-family: monospace;background-color: #f0f8ff;border: 1px dotted black;border-radius: 0.25em;box-sizing: border-box;margin-bottom: 0.5em;}#sk-container-id-1 div.sk-estimator:hover {background-color: #d4ebff;}#sk-container-id-1 div.sk-parallel-item::after {content: \"\";width: 100%;border-bottom: 1px solid gray;flex-grow: 1;}#sk-container-id-1 div.sk-label:hover label.sk-toggleable__label {background-color: #d4ebff;}#sk-container-id-1 div.sk-serial::before {content: \"\";position: absolute;border-left: 1px solid gray;box-sizing: border-box;top: 0;bottom: 0;left: 50%;z-index: 0;}#sk-container-id-1 div.sk-serial {display: flex;flex-direction: column;align-items: center;background-color: white;padding-right: 0.2em;padding-left: 0.2em;position: relative;}#sk-container-id-1 div.sk-item {position: relative;z-index: 1;}#sk-container-id-1 div.sk-parallel {display: flex;align-items: stretch;justify-content: center;background-color: white;position: relative;}#sk-container-id-1 div.sk-item::before, #sk-container-id-1 div.sk-parallel-item::before {content: \"\";position: absolute;border-left: 1px solid gray;box-sizing: border-box;top: 0;bottom: 0;left: 50%;z-index: -1;}#sk-container-id-1 div.sk-parallel-item {display: flex;flex-direction: column;z-index: 1;position: relative;background-color: white;}#sk-container-id-1 div.sk-parallel-item:first-child::after {align-self: flex-end;width: 50%;}#sk-container-id-1 div.sk-parallel-item:last-child::after {align-self: flex-start;width: 50%;}#sk-container-id-1 div.sk-parallel-item:only-child::after {width: 0;}#sk-container-id-1 div.sk-dashed-wrapped {border: 1px dashed gray;margin: 0 0.4em 0.5em 0.4em;box-sizing: border-box;padding-bottom: 0.4em;background-color: white;}#sk-container-id-1 div.sk-label label {font-family: monospace;font-weight: bold;display: inline-block;line-height: 1.2em;}#sk-container-id-1 div.sk-label-container {text-align: center;}#sk-container-id-1 div.sk-container {/* jupyter's `normalize.less` sets `[hidden] { display: none; }` but bootstrap.min.css set `[hidden] { display: none !important; }` so we also need the `!important` here to be able to override the default hidden behavior on the sphinx rendered scikit-learn.org. See: https://github.com/scikit-learn/scikit-learn/issues/21755 */display: inline-block !important;position: relative;}#sk-container-id-1 div.sk-text-repr-fallback {display: none;}</style><div id=\"sk-container-id-1\" class=\"sk-top-container\"><div class=\"sk-text-repr-fallback\"><pre>KNeighborsClassifier(n_neighbors=1)</pre><b>In a Jupyter environment, please rerun this cell to show the HTML representation or trust the notebook. <br />On GitHub, the HTML representation is unable to render, please try loading this page with nbviewer.org.</b></div><div class=\"sk-container\" hidden><div class=\"sk-item\"><div class=\"sk-estimator sk-toggleable\"><input class=\"sk-toggleable__control sk-hidden--visually\" id=\"sk-estimator-id-1\" type=\"checkbox\" checked><label for=\"sk-estimator-id-1\" class=\"sk-toggleable__label sk-toggleable__label-arrow\">KNeighborsClassifier</label><div class=\"sk-toggleable__content\"><pre>KNeighborsClassifier(n_neighbors=1)</pre></div></div></div></div></div>"
      ],
      "text/plain": [
       "KNeighborsClassifier(n_neighbors=1)"
      ]
     },
     "execution_count": 7,
     "metadata": {},
     "output_type": "execute_result"
    }
   ],
   "source": [
    "Knn.fit(X_train,y_train)"
   ]
  },
  {
   "cell_type": "code",
   "execution_count": 8,
   "id": "f14109e2",
   "metadata": {},
   "outputs": [
    {
     "data": {
      "text/plain": [
       "0.3230363241229432"
      ]
     },
     "execution_count": 8,
     "metadata": {},
     "output_type": "execute_result"
    }
   ],
   "source": [
    "Knn.score(X_test,y_test)"
   ]
  },
  {
   "cell_type": "code",
   "execution_count": 22,
   "id": "43980708",
   "metadata": {},
   "outputs": [
    {
     "data": {
      "text/plain": [
       "<matplotlib.image.AxesImage at 0x2209697ae00>"
      ]
     },
     "execution_count": 22,
     "metadata": {},
     "output_type": "execute_result"
    },
    {
     "data": {
      "image/png": "[encoded data removed]",
      "text/plain": [
       "<Figure size 432x288 with 1 Axes>"
      ]
     },
     "metadata": {
      "needs_background": "light"
     },
     "output_type": "display_data"
    }
   ],
   "source": [
    "# colour histogram\n",
    "\n",
    "alpha = img[50].reshape(100,100)\n",
    "Beta = img[500].reshape(100,100)\n",
    "\n",
    "plt.imshow(alpha)"
   ]
  },
  {
   "cell_type": "code",
   "execution_count": 23,
   "id": "49c9acec",
   "metadata": {},
   "outputs": [
    {
     "data": {
      "text/plain": [
       "<matplotlib.image.AxesImage at 0x22096a47b20>"
      ]
     },
     "execution_count": 23,
     "metadata": {},
     "output_type": "execute_result"
    },
    {
     "data": {
      "image/png": "[encoded data removed]",
      "text/plain": [
       "<Figure size 432x288 with 1 Axes>"
      ]
     },
     "metadata": {
      "needs_background": "light"
     },
     "output_type": "display_data"
    }
   ],
   "source": [
    "plt.imshow(Beta)"
   ]
  },
  {
   "cell_type": "code",
   "execution_count": 24,
   "id": "3518870f",
   "metadata": {},
   "outputs": [
    {
     "data": {
      "text/plain": [
       "Text(0.5, 1.0, 'Histogram representation: alpha')"
      ]
     },
     "execution_count": 24,
     "metadata": {},
     "output_type": "execute_result"
    },
    {
     "data": {
      "image/png": "[encoded data removed]",
      "text/plain": [
       "<Figure size 432x288 with 1 Axes>"
      ]
     },
     "metadata": {
      "needs_background": "light"
     },
     "output_type": "display_data"
    }
   ],
   "source": [
    "plt.hist(alpha.ravel(), bins=256, range=(0.0, 1.0), fc='k', ec='k')\n",
    "plt.title('Histogram representation: alpha')"
   ]
  },
  {
   "cell_type": "code",
   "execution_count": 25,
   "id": "b66a23b2",
   "metadata": {},
   "outputs": [
    {
     "data": {
      "text/plain": [
       "Text(0.5, 1.0, 'Histogram representation: Beta')"
      ]
     },
     "execution_count": 25,
     "metadata": {},
     "output_type": "execute_result"
    },
    {
     "data": {
      "image/png": "[encoded data removed]",
      "text/plain": [
       "<Figure size 432x288 with 1 Axes>"
      ]
     },
     "metadata": {
      "needs_background": "light"
     },
     "output_type": "display_data"
    }
   ],
   "source": [
    "plt.hist(Beta.ravel(), bins=256, range=(0.0, 1.0), fc='k', ec='k')\n",
    "plt.title('Histogram representation: Beta')"
   ]
  },
  {
   "cell_type": "code",
   "execution_count": null,
   "id": "f808a9cd",
   "metadata": {},
   "outputs": [],
   "source": []
  },
  {
   "cell_type": "markdown",
   "id": "3efe9979",
   "metadata": {},
   "source": [
    "### KNN with Grid Search"
   ]
  },
  {
   "cell_type": "code",
   "execution_count": 9,
   "id": "b13668a8",
   "metadata": {},
   "outputs": [],
   "source": [
    "from sklearn.model_selection import GridSearchCV"
   ]
  },
  {
   "cell_type": "code",
   "execution_count": 10,
   "id": "034f6455",
   "metadata": {},
   "outputs": [],
   "source": [
    "knn2 = KNeighborsClassifier()"
   ]
  },
  {
   "cell_type": "code",
   "execution_count": 12,
   "id": "80dce530",
   "metadata": {},
   "outputs": [],
   "source": [
    "param_grid = {'n_neighbors': np.arange(1, 10), 'p': [1,2]}"
   ]
  },
  {
   "cell_type": "code",
   "execution_count": 13,
   "id": "77983e57",
   "metadata": {},
   "outputs": [],
   "source": [
    "knnCV = GridSearchCV(knn2, param_grid, cv=5)"
   ]
  },
  {
   "cell_type": "code",
   "execution_count": 14,
   "id": "57b052b2",
   "metadata": {},
   "outputs": [
    {
     "data": {
      "text/html": [
       "<style>#sk-container-id-2 {color: black;background-color: white;}#sk-container-id-2 pre{padding: 0;}#sk-container-id-2 div.sk-toggleable {background-color: white;}#sk-container-id-2 label.sk-toggleable__label {cursor: pointer;display: block;width: 100%;margin-bottom: 0;padding: 0.3em;box-sizing: border-box;text-align: center;}#sk-container-id-2 label.sk-toggleable__label-arrow:before {content: \"▸\";float: left;margin-right: 0.25em;color: #696969;}#sk-container-id-2 label.sk-toggleable__label-arrow:hover:before {color: black;}#sk-container-id-2 div.sk-estimator:hover label.sk-toggleable__label-arrow:before {color: black;}#sk-container-id-2 div.sk-toggleable__content {max-height: 0;max-width: 0;overflow: hidden;text-align: left;background-color: #f0f8ff;}#sk-container-id-2 div.sk-toggleable__content pre {margin: 0.2em;color: black;border-radius: 0.25em;background-color: #f0f8ff;}#sk-container-id-2 input.sk-toggleable__control:checked~div.sk-toggleable__content {max-height: 200px;max-width: 100%;overflow: auto;}#sk-container-id-2 input.sk-toggleable__control:checked~label.sk-toggleable__label-arrow:before {content: \"▾\";}#sk-container-id-2 div.sk-estimator input.sk-toggleable__control:checked~label.sk-toggleable__label {background-color: #d4ebff;}#sk-container-id-2 div.sk-label input.sk-toggleable__control:checked~label.sk-toggleable__label {background-color: #d4ebff;}#sk-container-id-2 input.sk-hidden--visually {border: 0;clip: rect(1px 1px 1px 1px);clip: rect(1px, 1px, 1px, 1px);height: 1px;margin: -1px;overflow: hidden;padding: 0;position: absolute;width: 1px;}#sk-container-id-2 div.sk-estimator {font-family: monospace;background-color: #f0f8ff;border: 1px dotted black;border-radius: 0.25em;box-sizing: border-box;margin-bottom: 0.5em;}#sk-container-id-2 div.sk-estimator:hover {background-color: #d4ebff;}#sk-container-id-2 div.sk-parallel-item::after {content: \"\";width: 100%;border-bottom: 1px solid gray;flex-grow: 1;}#sk-container-id-2 div.sk-label:hover label.sk-toggleable__label {background-color: #d4ebff;}#sk-container-id-2 div.sk-serial::before {content: \"\";position: absolute;border-left: 1px solid gray;box-sizing: border-box;top: 0;bottom: 0;left: 50%;z-index: 0;}#sk-container-id-2 div.sk-serial {display: flex;flex-direction: column;align-items: center;background-color: white;padding-right: 0.2em;padding-left: 0.2em;position: relative;}#sk-container-id-2 div.sk-item {position: relative;z-index: 1;}#sk-container-id-2 div.sk-parallel {display: flex;align-items: stretch;justify-content: center;background-color: white;position: relative;}#sk-container-id-2 div.sk-item::before, #sk-container-id-2 div.sk-parallel-item::before {content: \"\";position: absolute;border-left: 1px solid gray;box-sizing: border-box;top: 0;bottom: 0;left: 50%;z-index: -1;}#sk-container-id-2 div.sk-parallel-item {display: flex;flex-direction: column;z-index: 1;position: relative;background-color: white;}#sk-container-id-2 div.sk-parallel-item:first-child::after {align-self: flex-end;width: 50%;}#sk-container-id-2 div.sk-parallel-item:last-child::after {align-self: flex-start;width: 50%;}#sk-container-id-2 div.sk-parallel-item:only-child::after {width: 0;}#sk-container-id-2 div.sk-dashed-wrapped {border: 1px dashed gray;margin: 0 0.4em 0.5em 0.4em;box-sizing: border-box;padding-bottom: 0.4em;background-color: white;}#sk-container-id-2 div.sk-label label {font-family: monospace;font-weight: bold;display: inline-block;line-height: 1.2em;}#sk-container-id-2 div.sk-label-container {text-align: center;}#sk-container-id-2 div.sk-container {/* jupyter's `normalize.less` sets `[hidden] { display: none; }` but bootstrap.min.css set `[hidden] { display: none !important; }` so we also need the `!important` here to be able to override the default hidden behavior on the sphinx rendered scikit-learn.org. See: https://github.com/scikit-learn/scikit-learn/issues/21755 */display: inline-block !important;position: relative;}#sk-container-id-2 div.sk-text-repr-fallback {display: none;}</style><div id=\"sk-container-id-2\" class=\"sk-top-container\"><div class=\"sk-text-repr-fallback\"><pre>GridSearchCV(cv=5, estimator=KNeighborsClassifier(),\n",
       "             param_grid={&#x27;n_neighbors&#x27;: array([1, 2, 3, 4, 5, 6, 7, 8, 9]),\n",
       "                         &#x27;p&#x27;: [1, 2]})</pre><b>In a Jupyter environment, please rerun this cell to show the HTML representation or trust the notebook. <br />On GitHub, the HTML representation is unable to render, please try loading this page with nbviewer.org.</b></div><div class=\"sk-container\" hidden><div class=\"sk-item sk-dashed-wrapped\"><div class=\"sk-label-container\"><div class=\"sk-label sk-toggleable\"><input class=\"sk-toggleable__control sk-hidden--visually\" id=\"sk-estimator-id-2\" type=\"checkbox\" ><label for=\"sk-estimator-id-2\" class=\"sk-toggleable__label sk-toggleable__label-arrow\">GridSearchCV</label><div class=\"sk-toggleable__content\"><pre>GridSearchCV(cv=5, estimator=KNeighborsClassifier(),\n",
       "             param_grid={&#x27;n_neighbors&#x27;: array([1, 2, 3, 4, 5, 6, 7, 8, 9]),\n",
       "                         &#x27;p&#x27;: [1, 2]})</pre></div></div></div><div class=\"sk-parallel\"><div class=\"sk-parallel-item\"><div class=\"sk-item\"><div class=\"sk-label-container\"><div class=\"sk-label sk-toggleable\"><input class=\"sk-toggleable__control sk-hidden--visually\" id=\"sk-estimator-id-3\" type=\"checkbox\" ><label for=\"sk-estimator-id-3\" class=\"sk-toggleable__label sk-toggleable__label-arrow\">estimator: KNeighborsClassifier</label><div class=\"sk-toggleable__content\"><pre>KNeighborsClassifier()</pre></div></div></div><div class=\"sk-serial\"><div class=\"sk-item\"><div class=\"sk-estimator sk-toggleable\"><input class=\"sk-toggleable__control sk-hidden--visually\" id=\"sk-estimator-id-4\" type=\"checkbox\" ><label for=\"sk-estimator-id-4\" class=\"sk-toggleable__label sk-toggleable__label-arrow\">KNeighborsClassifier</label><div class=\"sk-toggleable__content\"><pre>KNeighborsClassifier()</pre></div></div></div></div></div></div></div></div></div></div>"
      ],
      "text/plain": [
       "GridSearchCV(cv=5, estimator=KNeighborsClassifier(),\n",
       "             param_grid={'n_neighbors': array([1, 2, 3, 4, 5, 6, 7, 8, 9]),\n",
       "                         'p': [1, 2]})"
      ]
     },
     "execution_count": 14,
     "metadata": {},
     "output_type": "execute_result"
    }
   ],
   "source": [
    "knnCV.fit(X_train,y_train)"
   ]
  },
  {
   "cell_type": "code",
   "execution_count": 26,
   "id": "14d770e1",
   "metadata": {},
   "outputs": [],
   "source": [
    "Results=knnCV.cv_results_"
   ]
  },
  {
   "cell_type": "code",
   "execution_count": 37,
   "id": "faf42dd3",
   "metadata": {},
   "outputs": [],
   "source": [
    "x=Results.get('params')\n",
    "y=Results.get('mean_test_score')"
   ]
  },
  {
   "cell_type": "code",
   "execution_count": 41,
   "id": "df630b9e",
   "metadata": {},
   "outputs": [
    {
     "data": {
      "text/plain": [
       "Text(0.5, 1.0, 'distance = Manhattan distance')"
      ]
     },
     "execution_count": 41,
     "metadata": {},
     "output_type": "execute_result"
    },
    {
     "data": {
      "image/png": "[encoded data removed]",
      "text/plain": [
       "<Figure size 432x288 with 1 Axes>"
      ]
     },
     "metadata": {
      "needs_background": "light"
     },
     "output_type": "display_data"
    }
   ],
   "source": [
    "plt.plot(range(9),y[0::2])\n",
    "plt.xlabel('k-Value')\n",
    "plt.ylabel('Mean-CV score')\n",
    "plt.title('distance = Manhattan distance')"
   ]
  },
  {
   "cell_type": "code",
   "execution_count": 42,
   "id": "090c1f7e",
   "metadata": {},
   "outputs": [
    {
     "data": {
      "text/plain": [
       "Text(0.5, 1.0, 'distance = Euclidean distance')"
      ]
     },
     "execution_count": 42,
     "metadata": {},
     "output_type": "execute_result"
    },
    {
     "data": {
      "image/png": "[encoded data removed]",
      "text/plain": [
       "<Figure size 432x288 with 1 Axes>"
      ]
     },
     "metadata": {
      "needs_background": "light"
     },
     "output_type": "display_data"
    }
   ],
   "source": [
    "plt.plot(range(9),y[1::2])\n",
    "plt.xlabel('k-Value')\n",
    "plt.ylabel('Mean-CV score')\n",
    "plt.title('distance = Euclidean distance')"
   ]
  },
  {
   "cell_type": "code",
   "execution_count": 43,
   "id": "a1881f2c",
   "metadata": {},
   "outputs": [
    {
     "data": {
      "text/plain": [
       "0.32629618131015214"
      ]
     },
     "execution_count": 43,
     "metadata": {},
     "output_type": "execute_result"
    }
   ],
   "source": [
    "knnCV.score(X_test,y_test)"
   ]
  },
  {
   "cell_type": "code",
   "execution_count": 44,
   "id": "4757da9b",
   "metadata": {},
   "outputs": [],
   "source": [
    "from sklearn.metrics import confusion_matrix"
   ]
  },
  {
   "cell_type": "code",
   "execution_count": 45,
   "id": "65ae5b95",
   "metadata": {},
   "outputs": [],
   "source": [
    "y_pred = knnCV.predict(X_test)"
   ]
  },
  {
   "cell_type": "code",
   "execution_count": 46,
   "id": "b785ab59",
   "metadata": {},
   "outputs": [],
   "source": [
    "mat = confusion_matrix(y_test,y_pred)"
   ]
  },
  {
   "cell_type": "code",
   "execution_count": 50,
   "id": "6ea261cf",
   "metadata": {},
   "outputs": [],
   "source": [
    "import seaborn as sns"
   ]
  },
  {
   "cell_type": "code",
   "execution_count": 60,
   "id": "4c28bf69",
   "metadata": {
    "scrolled": true
   },
   "outputs": [
    {
     "data": {
      "text/plain": [
       "<AxesSubplot:>"
      ]
     },
     "execution_count": 60,
     "metadata": {},
     "output_type": "execute_result"
    },
    {
     "data": {
      "image/png": "[encoded data removed]",
      "text/plain": [
       "<Figure size 720x504 with 2 Axes>"
      ]
     },
     "metadata": {
      "needs_background": "light"
     },
     "output_type": "display_data"
    }
   ],
   "source": [
    "plt.figure(figsize = (10,7))\n",
    "sns.heatmap(mat)"
   ]
  },
  {
   "cell_type": "code",
   "execution_count": null,
   "id": "a1ca613c",
   "metadata": {},
   "outputs": [],
   "source": []
  }
 ],
 "metadata": {
  "kernelspec": {
   "display_name": "Python 3 (ipykernel)",
   "language": "python",
   "name": "python3"
  },
  "language_info": {
   "codemirror_mode": {
    "name": "ipython",
    "version": 3
   },
   "file_extension": ".py",
   "mimetype": "text/x-python",
   "name": "python",
   "nbconvert_exporter": "python",
   "pygments_lexer": "ipython3",
   "version": "3.9.12"
  }
 },
 "nbformat": 4,
 "nbformat_minor": 5
}
